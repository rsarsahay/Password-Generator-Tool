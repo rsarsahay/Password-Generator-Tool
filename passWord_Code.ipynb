{
 "cells": [
  {
   "cell_type": "code",
   "execution_count": 21,
   "id": "f8f30a67",
   "metadata": {},
   "outputs": [],
   "source": [
    "from tkinter import *\n",
    "import random, string\n",
    "import pyperclip"
   ]
  },
  {
   "cell_type": "code",
   "execution_count": 22,
   "id": "74d8aabe",
   "metadata": {},
   "outputs": [
    {
     "data": {
      "text/plain": [
       "''"
      ]
     },
     "execution_count": 22,
     "metadata": {},
     "output_type": "execute_result"
    }
   ],
   "source": [
    "root = Tk()\n",
    "root.geometry(\"400x400\")\n",
    "root.resizable(0,0)\n",
    "root.title(\"PASSWORD GENERATOR\")"
   ]
  },
  {
   "cell_type": "code",
   "execution_count": 23,
   "id": "30f27ea6",
   "metadata": {},
   "outputs": [],
   "source": [
    "heading=Label(root, text = 'PASSWORD GENERATOR' , font ='arial 15 bold').pack()\n"
   ]
  },
  {
   "cell_type": "code",
   "execution_count": 24,
   "id": "b3ec206b",
   "metadata": {},
   "outputs": [],
   "source": [
    "pass_label = Label(root, text = 'PASSWORD LENGTH', font = 'arial 10 bold').pack()\n",
    "pass_len = IntVar()\n",
    "length = Spinbox(root, from_ = 8, to_ = 32 , textvariable = pass_len , width = 15).pack()"
   ]
  },
  {
   "cell_type": "code",
   "execution_count": 25,
   "id": "4d951525",
   "metadata": {},
   "outputs": [],
   "source": [
    "pass_str = StringVar()\n",
    "def Generator():\n",
    "    password = ''\n",
    "\n",
    "    for x in range (0,4):\n",
    "        password = random.choice(string.ascii_uppercase) + random.choice(string.ascii_lowercase) + random.choice(string.digits) + random.choice(string.punctuation)\n",
    "    for y in range(pass_len.get()- 4):\n",
    "        password = password + random.choice(string.ascii_uppercase + string.ascii_lowercase + string.digits + string.punctuation)\n",
    "    pass_str.set(password)"
   ]
  },
  {
   "cell_type": "code",
   "execution_count": 26,
   "id": "65b7b638",
   "metadata": {},
   "outputs": [],
   "source": [
    "Button(root, text = \"GENERATE PASSWORD\" , command = Generator ).pack(pady= 5)\n",
    "\n",
    "Entry(root , textvariable = pass_str).pack()"
   ]
  },
  {
   "cell_type": "code",
   "execution_count": 27,
   "id": "e6b57be4",
   "metadata": {},
   "outputs": [],
   "source": [
    "def Copy_password():\n",
    "    pyperclip.copy(pass_str.get())\n",
    "\n",
    "Button(root, text = 'COPY TO CLIPBOARD', command = Copy_password).pack(pady=5)"
   ]
  },
  {
   "cell_type": "code",
   "execution_count": 28,
   "id": "8487decc",
   "metadata": {},
   "outputs": [],
   "source": [
    "# loop to run program\n",
    "root.mainloop()"
   ]
  },
  {
   "cell_type": "code",
   "execution_count": null,
   "id": "6d5d9df8",
   "metadata": {},
   "outputs": [],
   "source": []
  }
 ],
 "metadata": {
  "kernelspec": {
   "display_name": "Python 3 (ipykernel)",
   "language": "python",
   "name": "python3"
  },
  "language_info": {
   "codemirror_mode": {
    "name": "ipython",
    "version": 3
   },
   "file_extension": ".py",
   "mimetype": "text/x-python",
   "name": "python",
   "nbconvert_exporter": "python",
   "pygments_lexer": "ipython3",
   "version": "3.9.7"
  }
 },
 "nbformat": 4,
 "nbformat_minor": 5
}
